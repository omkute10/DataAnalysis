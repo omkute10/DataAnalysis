{
 "cells": [
  {
   "cell_type": "markdown",
   "metadata": {},
   "source": [
    "Basics of Numpy and Operations"
   ]
  },
  {
   "cell_type": "code",
   "execution_count": 1,
   "metadata": {},
   "outputs": [
    {
     "name": "stdout",
     "output_type": "stream",
     "text": [
      "[1 2 3 4 5]\n"
     ]
    }
   ],
   "source": [
    "import numpy as np\n",
    "\n",
    "arr1 = np.array([1,2,3,4,5])\n",
    "print(arr1)"
   ]
  },
  {
   "cell_type": "code",
   "execution_count": 8,
   "metadata": {},
   "outputs": [
    {
     "name": "stdout",
     "output_type": "stream",
     "text": [
      "[[2 4 5 3 7 9]]\n"
     ]
    },
    {
     "data": {
      "text/plain": [
       "(1, 6)"
      ]
     },
     "execution_count": 8,
     "metadata": {},
     "output_type": "execute_result"
    }
   ],
   "source": [
    "arr1 = np.array([[2, 4, 5, 3, 7, 9]]) ##2D Array\n",
    "arr1.reshape(1,6)\n",
    "print(arr1)\n",
    "arr1.shape"
   ]
  },
  {
   "cell_type": "code",
   "execution_count": 12,
   "metadata": {},
   "outputs": [
    {
     "name": "stdout",
     "output_type": "stream",
     "text": [
      "[[1 2 3 5]\n",
      " [3 2 4 5]\n",
      " [3 2 4 3]]\n"
     ]
    }
   ],
   "source": [
    "arr = np.array([[1, 2, 3, 5], [3, 2, 4, 5], [3, 2, 4, 3]])\n",
    "print(arr)"
   ]
  },
  {
   "cell_type": "code",
   "execution_count": 14,
   "metadata": {},
   "outputs": [
    {
     "name": "stdout",
     "output_type": "stream",
     "text": [
      "Array: \n",
      " [[1 2 1 2]\n",
      " [2 4 3 5]]\n",
      "Shape of Array:  (2, 4)\n",
      "Number of Dimension:  2\n",
      "Data type of an Array:  int32\n"
     ]
    }
   ],
   "source": [
    "##Attributes of NumPy Array\n",
    "arr = np.array([[1,2,1,2], [2,4,3,5]])\n",
    "\n",
    "print(\"Array: \\n\", arr)\n",
    "print(\"Shape of Array: \", arr.shape)\n",
    "print(\"Number of Dimension: \", arr.ndim)\n",
    "print(\"Data type of an Array: \", arr.dtype)"
   ]
  }
 ],
 "metadata": {
  "kernelspec": {
   "display_name": "base",
   "language": "python",
   "name": "python3"
  },
  "language_info": {
   "codemirror_mode": {
    "name": "ipython",
    "version": 3
   },
   "file_extension": ".py",
   "mimetype": "text/x-python",
   "name": "python",
   "nbconvert_exporter": "python",
   "pygments_lexer": "ipython3",
   "version": "3.12.4"
  }
 },
 "nbformat": 4,
 "nbformat_minor": 2
}
